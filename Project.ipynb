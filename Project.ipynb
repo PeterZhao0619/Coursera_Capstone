{
 "cells": [
  {
   "cell_type": "markdown",
   "metadata": {},
   "source": [
    "# Finding Latest Share prices in DOW( week2)"
   ]
  },
  {
   "cell_type": "markdown",
   "metadata": {},
   "source": [
    "## Introduction"
   ]
  },
  {
   "cell_type": "markdown",
   "metadata": {},
   "source": [
    "## Data"
   ]
  },
  {
   "cell_type": "markdown",
   "metadata": {},
   "source": [
    "## Analysis\n",
    "       First, we import the necessary packages and do some preparation for our analysis. We can retrieve the data from the DOW website.\n",
    "      "
   ]
  },
  {
   "cell_type": "code",
   "execution_count": 9,
   "metadata": {},
   "outputs": [
    {
     "name": "stdout",
     "output_type": "stream",
     "text": [
      "       0                        1       2\n",
      "0    MMM                       3M  163.10\n",
      "1    AXP         American Express  116.76\n",
      "2   AAPL                    Apple  236.41\n",
      "3     BA                   Boeing  344.00\n",
      "4    CAT              Caterpillar  130.71\n",
      "5    CVX                  Chevron  114.74\n",
      "6   CSCO                    Cisco   46.71\n",
      "7     KO                Coca-Cola   54.78\n",
      "8    DIS                   Disney  130.89\n",
      "9    DOW             Dow Chemical   47.96\n",
      "10   XOM              Exxon Mobil   67.61\n",
      "11    GS            Goldman Sachs  206.52\n",
      "12    HD               Home Depot  237.93\n",
      "13   IBM                      IBM  134.09\n",
      "14  INTC                    Intel   51.36\n",
      "15   JNJ        Johnson & Johnson  127.70\n",
      "16   JPM           JPMorgan Chase  120.56\n",
      "17   MCD               McDonald's  208.50\n",
      "18   MRK                    Merck   84.68\n",
      "19  MSFT                Microsoft  137.41\n",
      "20   NKE                     Nike   96.10\n",
      "21   PFE                   Pfizer   36.46\n",
      "22    PG         Procter & Gamble  117.47\n",
      "23   TRV  Travelers Companies Inc  141.36\n",
      "24   UTX      United Technologies  136.80\n",
      "25   UNH             UnitedHealth  245.34\n",
      "26    VZ                  Verizon   61.05\n",
      "27     V                     Visa  175.71\n",
      "28   WMT                 Wal-Mart  119.14\n",
      "29   WBA                 Walgreen   55.30\n"
     ]
    }
   ],
   "source": [
    "import requests\n",
    "import re\n",
    "import pandas as pd\n",
    "\n",
    "def retrieve_dji_list():\n",
    "    try:\n",
    "        r = requests.get('https://money.cnn.com/data/dow30/')\n",
    "    except ConnectionError as err:\n",
    "        print(err) \n",
    "    search_pattern = re.compile('class=\"wsod_symbol\">(.*?)<\\/a>.*?<span.*?\">(.*?)<\\/span>.*?\\n.*?class=\"wsod_stream\">(.*?)<\\/span>')\n",
    "    dji_list_in_text = re.findall(search_pattern, r.text)\n",
    "    dji_list = []\n",
    "    for item in dji_list_in_text:\n",
    "        dji_list.append([item[0], item[1], float(item[2])])\n",
    "    return dji_list\n",
    " \n",
    "dji_list = retrieve_dji_list()\n",
    "djidf = pd.DataFrame(dji_list)\n",
    "print(djidf)"
   ]
  },
  {
   "cell_type": "markdown",
   "metadata": {},
   "source": [
    "Second, we rename some indext so that it looks more readable."
   ]
  },
  {
   "cell_type": "code",
   "execution_count": 10,
   "metadata": {},
   "outputs": [
    {
     "data": {
      "text/plain": [
       "116.76"
      ]
     },
     "execution_count": 10,
     "metadata": {},
     "output_type": "execute_result"
    }
   ],
   "source": [
    "cols=['code','name','lasttrade']\n",
    "djidf.columns=cols # 改变列名\n",
    "djidf.index=range(1,len(djidf)+1)\n",
    "\n",
    "djidf.code   # 获取code列+index\n",
    "djidf['code']  # 获取code列 , 两者同功能\n",
    "djidf.loc[1:5,]  # 前5行\n",
    "djidf.loc[:,['code','lasttrade']] #所有行\n",
    "djidf.loc[1:5,['code','lasttrade']] #1-5行, loc表示标签index\n",
    "djidf.loc[1,['code','lasttrade']] #1行\n",
    "djidf.at[1,'lasttrade']  # 只有一个值的时候可以用at\n",
    "djidf.iloc[2:4,[0,2]]  # 表示物理文职, 并且4取不到, 就只有第三行第四行\n",
    "djidf.iat[1,2]  # 单个值\n"
   ]
  },
  {
   "cell_type": "markdown",
   "metadata": {},
   "source": [
    "### 1. Analysis of History Transcation"
   ]
  },
  {
   "cell_type": "markdown",
   "metadata": {},
   "source": [
    "We can find the company names for the highest share prices."
   ]
  },
  {
   "cell_type": "code",
   "execution_count": 11,
   "metadata": {},
   "outputs": [
    {
     "data": {
      "text/plain": [
       "4           Boeing\n",
       "26    UnitedHealth\n",
       "13      Home Depot\n",
       "Name: name, dtype: object"
      ]
     },
     "execution_count": 11,
     "metadata": {},
     "output_type": "execute_result"
    }
   ],
   "source": [
    "djidf.lasttrade.mean()  # 121.132\n",
    "djidf[djidf.lasttrade>=180].name\n",
    "\n",
    "\n",
    "\n",
    "tempdf=djidf.sort_values(by='lasttrade',ascending=False)\n",
    "tempdf[:3].name"
   ]
  },
  {
   "cell_type": "markdown",
   "metadata": {},
   "source": [
    "We can see that, Boeing has the highest share price, and then UnitedHealth, and Home Depot."
   ]
  },
  {
   "cell_type": "markdown",
   "metadata": {},
   "source": [
    "### 2. Analysis of AXP comapny"
   ]
  },
  {
   "cell_type": "markdown",
   "metadata": {},
   "source": [
    "Next, for example we want to know the share price of AXP company in the last year."
   ]
  },
  {
   "cell_type": "code",
   "execution_count": 12,
   "metadata": {},
   "outputs": [
    {
     "name": "stdout",
     "output_type": "stream",
     "text": [
      "                 close        high         low        open   volume\n",
      "2018-10-22  104.510002  106.959999  104.449997  106.610001  5003100\n",
      "2018-10-23  104.379997  104.519997  101.839996  102.410004  4223800\n",
      "2018-10-24  101.839996  104.949997  101.510002  104.430000  4056700\n",
      "2018-10-25  103.599998  104.169998  101.800003  102.480003  3378900\n",
      "2018-10-26  101.250000  102.660004  100.139999  102.540001  5395700\n",
      "2018-10-29  101.190002  103.250000  100.040001  102.470001  4238700\n",
      "2018-10-30  102.080002  102.389999  100.410004  101.599998  3778200\n",
      "2018-10-31  102.730003  103.709999  102.550003  103.059998  4511300\n",
      "2018-11-01  104.040001  104.269997  103.019997  103.260002  2786800\n",
      "2018-11-02  103.709999  105.050003  102.889999  104.930000  4322200\n",
      "2018-11-05  105.209999  105.400002  103.800003  104.040001  2697700\n",
      "2018-11-06  104.980003  105.660004  104.370003  104.980003  2856000\n",
      "2018-11-07  107.309998  107.480003  104.900002  105.730003  3606900\n",
      "2018-11-08  108.500000  108.629997  107.029999  107.029999  2896700\n",
      "2018-11-09  108.279999  109.330002  107.349998  108.379997  4444000\n",
      "2018-11-12  106.489998  108.440002  106.300003  108.160004  3154600\n",
      "2018-11-13  107.860001  108.199997  106.470001  106.650002  3021800\n",
      "2018-11-14  107.769997  109.330002  106.889999  108.610001  4978100\n",
      "2018-11-15  109.599998  109.699997  106.339996  106.680000  3742600\n",
      "2018-11-16  109.459999  110.379997  108.580002  108.580002  3486200\n",
      "2018-11-19  108.250000  110.019997  107.419998  109.900002  3161200\n",
      "2018-11-20  106.089996  107.900002  105.459999  107.550003  3779000\n",
      "2018-11-21  106.500000  107.669998  106.129997  106.370003  2791000\n",
      "2018-11-23  105.739998  106.449997  105.309998  105.879997   938800\n",
      "2018-11-26  109.680000  109.730003  106.830002  107.150002  4488500\n",
      "2018-11-27  110.110001  110.360001  108.730003  109.500000  2837900\n",
      "2018-11-28  112.889999  113.180000  110.330002  110.330002  3995900\n",
      "2018-11-29  111.309998  112.260002  110.480003  112.000000  4249500\n",
      "2018-11-30  112.269997  112.449997  110.370003  110.370003  3949500\n",
      "2018-12-03  112.360001  114.550003  112.000000  113.989998  3399400\n",
      "...                ...         ...         ...         ...      ...\n",
      "2019-09-09  119.919998  121.410004  119.519997  121.209999  5336000\n",
      "2019-09-10  117.309998  119.610001  116.300003  119.599998  6196100\n",
      "2019-09-11  118.000000  118.099998  116.750000  117.120003  3674400\n",
      "2019-09-12  119.019997  120.430000  118.779999  119.000000  3733500\n",
      "2019-09-13  119.199997  119.970001  118.290001  119.239998  3941100\n",
      "2019-09-16  117.639999  118.440002  116.680000  118.139999  4280600\n",
      "2019-09-17  119.050003  119.129997  117.500000  117.900002  3054700\n",
      "2019-09-18  118.739998  118.800003  117.470001  118.589996  2844500\n",
      "2019-09-19  117.790001  119.519997  117.599998  118.610001  1975800\n",
      "2019-09-20  116.800003  118.239998  116.370003  117.830002  5301500\n",
      "2019-09-23  118.239998  118.419998  116.099998  116.360001  5089400\n",
      "2019-09-24  118.169998  120.199997  117.519997  118.889999  5128400\n",
      "2019-09-25  119.120003  119.440002  117.059998  117.860001  2742900\n",
      "2019-09-26  118.910004  120.029999  118.839996  119.309998  3411200\n",
      "2019-09-27  118.589996  119.620003  117.980003  119.129997  2909200\n",
      "2019-09-30  118.279999  119.239998  118.139999  119.050003  2345800\n",
      "2019-10-01  116.699997  119.500000  116.610001  118.699997  2841300\n",
      "2019-10-02  112.860001  115.809998  112.750000  115.760002  4908800\n",
      "2019-10-03  112.550003  112.959999  111.059998  112.199997  3529300\n",
      "2019-10-04  114.410004  114.529999  112.599998  112.660004  2728200\n",
      "2019-10-07  113.650002  114.650002  113.599998  113.910004  2556000\n",
      "2019-10-08  112.540001  113.650002  112.050003  112.830002  3757300\n",
      "2019-10-09  113.919998  114.769997  113.230003  113.250000  2365600\n",
      "2019-10-10  115.019997  115.790001  113.930000  114.809998  2384300\n",
      "2019-10-11  116.400002  117.570000  116.190002  116.739998  2860400\n",
      "2019-10-14  116.389999  117.000000  115.940002  116.139999  1864400\n",
      "2019-10-15  117.589996  118.190002  116.730003  117.029999  2379700\n",
      "2019-10-16  117.410004  117.989998  117.070000  117.629997  2136700\n",
      "2019-10-17  119.099998  119.330002  117.959999  118.010002  3005500\n",
      "2019-10-18  116.760002  119.980003  116.669998  119.730003  6188500\n",
      "\n",
      "[250 rows x 5 columns]\n"
     ]
    }
   ],
   "source": [
    "import requests\n",
    "import re\n",
    "import json\n",
    "import pandas as pd\n",
    "from datetime import  date\n",
    "def retrieve_quotes_historical(stock_code):\n",
    "    quotes = []\n",
    "    url = 'https://finance.yahoo.com/quote/%s/history?p=%s' % (stock_code, stock_code)\n",
    "    try:\n",
    "        r = requests.get(url)\n",
    "    except ConnectionError as err:\n",
    "        print(err)\n",
    "    m = re.findall('\"HistoricalPriceStore\":{\"prices\":(.*?),\"isPending\"', r.text)\n",
    "    if m:\n",
    "        quotes = json.loads(m[0])       # m = ['[{...},{...},...]'] \n",
    "        quotes = quotes[::-1]         # 原先数据为date最新的在最前面\n",
    "    return  [item for item in quotes if not 'type' in item]\n",
    "quotes = retrieve_quotes_historical('AXP')\n",
    "list1=[]\n",
    "for i in range(len(quotes)):\n",
    "    x=date.fromtimestamp(quotes[i]['date'])\n",
    "    y=date.strftime(x,'%Y-%m-%d')\n",
    "    list1.append(y)\n",
    "quotesdf_ori=pd.DataFrame(quotes,index=list1)    \n",
    "quotesdf_m = quotesdf_ori.drop(['adjclose'], axis = 1)  #删除adjclose列\n",
    "quotesdf=quotesdf_m.drop(['date'],axis=1)\n",
    "print(quotesdf)"
   ]
  },
  {
   "cell_type": "markdown",
   "metadata": {},
   "source": [
    "Then we get it ! We can make statistical summary for this company, including the decreasing and increasing days of share price, and description of max, min sd, etc."
   ]
  },
  {
   "cell_type": "code",
   "execution_count": 13,
   "metadata": {},
   "outputs": [
    {
     "data": {
      "text/plain": [
       "250"
      ]
     },
     "execution_count": 13,
     "metadata": {},
     "output_type": "execute_result"
    }
   ],
   "source": [
    "quotesdf[(quotesdf.index>='2017-03-01') & (quotesdf.index<='2017-03-31')]\n",
    "quotesdf[(quotesdf.index>='2017-11-30') & (quotesdf.index<='2018-03-31')& \n",
    "(quotesdf.close>=90)]\n",
    "len(quotesdf.close>quotesdf.open) "
   ]
  },
  {
   "cell_type": "code",
   "execution_count": 14,
   "metadata": {},
   "outputs": [
    {
     "data": {
      "text/html": [
       "<div>\n",
       "<style scoped>\n",
       "    .dataframe tbody tr th:only-of-type {\n",
       "        vertical-align: middle;\n",
       "    }\n",
       "\n",
       "    .dataframe tbody tr th {\n",
       "        vertical-align: top;\n",
       "    }\n",
       "\n",
       "    .dataframe thead th {\n",
       "        text-align: right;\n",
       "    }\n",
       "</style>\n",
       "<table border=\"1\" class=\"dataframe\">\n",
       "  <thead>\n",
       "    <tr style=\"text-align: right;\">\n",
       "      <th></th>\n",
       "      <th>index_1</th>\n",
       "      <th>index_2</th>\n",
       "      <th>index_3</th>\n",
       "    </tr>\n",
       "  </thead>\n",
       "  <tbody>\n",
       "    <tr>\n",
       "      <th>count</th>\n",
       "      <td>3.000000</td>\n",
       "      <td>3.000000</td>\n",
       "      <td>3.000000</td>\n",
       "    </tr>\n",
       "    <tr>\n",
       "      <th>mean</th>\n",
       "      <td>0.422109</td>\n",
       "      <td>0.528184</td>\n",
       "      <td>0.271551</td>\n",
       "    </tr>\n",
       "    <tr>\n",
       "      <th>std</th>\n",
       "      <td>0.261885</td>\n",
       "      <td>0.136680</td>\n",
       "      <td>0.413067</td>\n",
       "    </tr>\n",
       "    <tr>\n",
       "      <th>min</th>\n",
       "      <td>0.163625</td>\n",
       "      <td>0.424300</td>\n",
       "      <td>0.009406</td>\n",
       "    </tr>\n",
       "    <tr>\n",
       "      <th>25%</th>\n",
       "      <td>0.289529</td>\n",
       "      <td>0.450765</td>\n",
       "      <td>0.033472</td>\n",
       "    </tr>\n",
       "    <tr>\n",
       "      <th>50%</th>\n",
       "      <td>0.415434</td>\n",
       "      <td>0.477231</td>\n",
       "      <td>0.057538</td>\n",
       "    </tr>\n",
       "    <tr>\n",
       "      <th>75%</th>\n",
       "      <td>0.551351</td>\n",
       "      <td>0.580126</td>\n",
       "      <td>0.402624</td>\n",
       "    </tr>\n",
       "    <tr>\n",
       "      <th>max</th>\n",
       "      <td>0.687268</td>\n",
       "      <td>0.683022</td>\n",
       "      <td>0.747710</td>\n",
       "    </tr>\n",
       "  </tbody>\n",
       "</table>\n",
       "</div>"
      ],
      "text/plain": [
       "        index_1   index_2   index_3\n",
       "count  3.000000  3.000000  3.000000\n",
       "mean   0.422109  0.528184  0.271551\n",
       "std    0.261885  0.136680  0.413067\n",
       "min    0.163625  0.424300  0.009406\n",
       "25%    0.289529  0.450765  0.033472\n",
       "50%    0.415434  0.477231  0.057538\n",
       "75%    0.551351  0.580126  0.402624\n",
       "max    0.687268  0.683022  0.747710"
      ]
     },
     "execution_count": 14,
     "metadata": {},
     "output_type": "execute_result"
    }
   ],
   "source": [
    "import pandas as pd\n",
    "import numpy as np\n",
    "index_df = pd.DataFrame(np.random.rand(3,3), index=['a','b','c'], columns=['index_1','index_2','index_3'])\n",
    "index_df.describe()"
   ]
  },
  {
   "cell_type": "code",
   "execution_count": 15,
   "metadata": {},
   "outputs": [
    {
     "ename": "SyntaxError",
     "evalue": "invalid syntax (<ipython-input-15-b45ef18deb3b>, line 1)",
     "output_type": "error",
     "traceback": [
      "\u001b[0;36m  File \u001b[0;32m\"<ipython-input-15-b45ef18deb3b>\"\u001b[0;36m, line \u001b[0;32m1\u001b[0m\n\u001b[0;31m    Finally, we still want to know the number of transcation days for each month. We can also accomplish this in python.\u001b[0m\n\u001b[0m                    ^\u001b[0m\n\u001b[0;31mSyntaxError\u001b[0m\u001b[0;31m:\u001b[0m invalid syntax\n"
     ]
    }
   ],
   "source": [
    "Finally, we still want to know the number of transcation days for each month. We can also accomplish this in python."
   ]
  },
  {
   "cell_type": "code",
   "execution_count": 16,
   "metadata": {},
   "outputs": [
    {
     "name": "stdout",
     "output_type": "stream",
     "text": [
      "10    22\n",
      "8     22\n",
      "7     22\n",
      "5     22\n",
      "11    21\n",
      "4     21\n",
      "3     21\n",
      "1     21\n",
      "9     20\n",
      "6     20\n",
      "12    19\n",
      "2     19\n",
      "Name: month, dtype: int64\n"
     ]
    }
   ],
   "source": [
    "import time\n",
    "list2=[]\n",
    "for i in range(len(quotesdf)):\n",
    "    temp=time.strptime(quotesdf.index[i],'%Y-%m-%d')\n",
    "    list2.append(temp.tm_mon)  # 取月份\n",
    "tempdf=quotesdf.copy()\n",
    "tempdf['month']=list2  # 新增一列月份的数据\n",
    "print(tempdf['month'].value_counts())  # 计算每个月的出现次数"
   ]
  },
  {
   "cell_type": "markdown",
   "metadata": {},
   "source": [
    "## Conlusion"
   ]
  },
  {
   "cell_type": "markdown",
   "metadata": {},
   "source": [
    "With the analysis above, we are able to summary the transaction features of DOM. Boeing，AmericanHealth, and Home Depot have the higheest share price currently. For specific compaies like AXP, \n",
    "we are also able to get lots of valauble infomration about its share price with this analysis. Basically, in this project, we apply method of description statistics and show our results in tables. Admittedly, charts and visualization an enrich the content of this \n",
    "analysis, but it does not necessary for share price analysis."
   ]
  }
 ],
 "metadata": {
  "kernelspec": {
   "display_name": "Python 3",
   "language": "python",
   "name": "python3"
  },
  "language_info": {
   "codemirror_mode": {
    "name": "ipython",
    "version": 3
   },
   "file_extension": ".py",
   "mimetype": "text/x-python",
   "name": "python",
   "nbconvert_exporter": "python",
   "pygments_lexer": "ipython3",
   "version": "3.6.7"
  }
 },
 "nbformat": 4,
 "nbformat_minor": 2
}
