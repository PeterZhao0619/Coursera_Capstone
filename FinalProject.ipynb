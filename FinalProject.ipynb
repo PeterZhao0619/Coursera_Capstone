{
 "cells": [
  {
   "cell_type": "markdown",
   "metadata": {},
   "source": [
    "# Course project for IBM Python"
   ]
  },
  {
   "cell_type": "markdown",
   "metadata": {},
   "source": [
    "\n",
    "## Introduction\n",
    "### Describe the business problem \n",
    "     Currently, I am an undergraduate student. However, soon after I plan to pursue my master degree in the British. One of my dream school is LBS, and therefore I need to rent an apartment in London. There are some criteria I set for the apartment, including:\n",
    "     1. monthly rent less than 1000 pounds. \n",
    "     2. The distance to the nearest metro station is less than 1.0km\n",
    "     3. It should have at least one bedroom, one bathroom and one kitchen.\n",
    "     4. The distance to LSE would better be less than 5.0km.\n",
    "### Interested auidence\n",
    "    First, other international students who are going to study at LBS will find this report useful. It can offer them the best guide in choosing an appropriate accomendation. Second, many students who study aboard stand on benefit in reading this report, as the research methodology can be easily replicated in other cities in the North America, Asia, Austrilia and so forth."
   ]
  },
  {
   "cell_type": "markdown",
   "metadata": {},
   "source": [
    "## Data\n",
    "We extract geographical data from the Foursquare. From this source of data, we are able to determine the main geographical features of an apartment, including:\n",
    "  1. distance to a metro station\n",
    "  2. distance to LSE\n",
    "  \n",
    "On the other hand, we will try to find the price and descriptionof apartments from other sources like the website of Airbnb. This helps us to determine whether the apartment meets the criteria 1 and 3.\n"
   ]
  },
  {
   "cell_type": "markdown",
   "metadata": {},
   "source": [
    "## Preparation for analysis"
   ]
  },
  {
   "cell_type": "markdown",
   "metadata": {},
   "source": [
    "import the ncessary packages."
   ]
  },
  {
   "cell_type": "code",
   "execution_count": null,
   "metadata": {},
   "outputs": [],
   "source": [
    "import numpy as np # library to handle data in a vectorized manner\n",
    "import time\n",
    "import pandas as pd # library for data analsysis\n",
    "pd.set_option('display.max_columns', None)\n",
    "pd.set_option('display.max_rows', None)\n",
    "\n",
    "import json # library to handle JSON files\n",
    "import requests # library to handle requests\n",
    "from pandas.io.json import json_normalize # tranform JSON file into a pandas dataframe\n",
    "\n",
    "from geopy.geocoders import Nominatim # convert an address into latitude and longitude values\n",
    "!conda install -c conda-forge folium=0.5.0 --yes # uncomment this line if you haven't completed the Foursquare API lab\n",
    "import folium # map rendering library\n",
    "\n",
    "print('Libraries imported.')"
   ]
  },
  {
   "cell_type": "markdown",
   "metadata": {},
   "source": [
    "Use the geographical location of LBS to display."
   ]
  },
  {
   "cell_type": "code",
   "execution_count": null,
   "metadata": {},
   "outputs": [],
   "source": [
    "# Shenton Way, District 01, Singapore\n",
    "address = 'London Business School, London'\n",
    "\n",
    "geolocator = Nominatim()\n",
    "location = geolocator.geocode(address)\n",
    "latitude = location.latitude\n",
    "longitude = location.longitude\n",
    "print('The geograpical coordinate of LBS are {}, {}.'.format(latitude, longitude))"
   ]
  },
  {
   "cell_type": "code",
   "execution_count": null,
   "metadata": {},
   "outputs": [],
   "source": []
  }
 ],
 "metadata": {
  "kernelspec": {
   "display_name": "Python 3",
   "language": "python",
   "name": "python3"
  },
  "language_info": {
   "codemirror_mode": {
    "name": "ipython",
    "version": 3
   },
   "file_extension": ".py",
   "mimetype": "text/x-python",
   "name": "python",
   "nbconvert_exporter": "python",
   "pygments_lexer": "ipython3",
   "version": "3.6.7"
  }
 },
 "nbformat": 4,
 "nbformat_minor": 2
}
