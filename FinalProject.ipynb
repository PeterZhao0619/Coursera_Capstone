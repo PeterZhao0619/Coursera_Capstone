{
 "cells": [
  {
   "cell_type": "markdown",
   "metadata": {},
   "source": [
    "# Course project for IBM Python"
   ]
  },
  {
   "cell_type": "markdown",
   "metadata": {},
   "source": [
    "\n",
    "## Introduction\n",
    "     in this report, we will discuss the optium place for opening a new hotel for hotel owners. As a major business center in the North America, Toronto has thousands of companies and many of them are international. Therefore, there is lot of demand of accomendation for worked people. And also, many tourists hope to visit this great city with many historical and natural sights. Consequently, running a hotel can be very profitable, but the key issue is that it must locate in an appropriate place. \n",
    "     As dicussed above, demands of hotels can be divided into two parts: work demand and travel demand. So we would like to explore this issue by describing the major workplace and major sights in this city. And also, the houding price level is also an important factor. Therefore, we would like to put this into consideration.\n",
    "     The stakeholders of this report will be those who are interested in entering the hotel industry in Toronto. Choosing an appropriate place for the start can pave the way to business success."
   ]
  },
  {
   "cell_type": "markdown",
   "metadata": {},
   "source": [
    "## Data\n",
    "  We extract geographical data from the Foursquare. From this source of data, we are able to determine the main area of work and visit. In general, these places are suitable for running hotels. On the other hand, we will obtain house pricing level by districts form the Wiki website. The higher the price is, the more cost of hotel business. We will combine these factors and manage to find the best place for running a hotel. "
   ]
  }
 ],
 "metadata": {
  "kernelspec": {
   "display_name": "Python 3",
   "language": "python",
   "name": "python3"
  },
  "language_info": {
   "codemirror_mode": {
    "name": "ipython",
    "version": 3
   },
   "file_extension": ".py",
   "mimetype": "text/x-python",
   "name": "python",
   "nbconvert_exporter": "python",
   "pygments_lexer": "ipython3",
   "version": "3.6.7"
  }
 },
 "nbformat": 4,
 "nbformat_minor": 2
}
